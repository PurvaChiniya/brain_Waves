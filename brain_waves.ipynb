{
  "nbformat": 4,
  "nbformat_minor": 0,
  "metadata": {
    "colab": {
      "name": "brain_waves.ipynb",
      "version": "0.3.2",
      "provenance": [],
      "collapsed_sections": [],
      "include_colab_link": true
    },
    "kernelspec": {
      "name": "python3",
      "display_name": "Python 3"
    },
    "accelerator": "GPU"
  },
  "cells": [
    {
      "cell_type": "markdown",
      "metadata": {
        "id": "view-in-github",
        "colab_type": "text"
      },
      "source": [
        "<a href=\"https://colab.research.google.com/github/PurvaChiniya/brain_Waves/blob/master/brain_waves.ipynb\" target=\"_parent\"><img src=\"https://colab.research.google.com/assets/colab-badge.svg\" alt=\"Open In Colab\"/></a>"
      ]
    },
    {
      "metadata": {
        "id": "n9onOjC0OYu7",
        "colab_type": "code",
        "colab": {}
      },
      "cell_type": "code",
      "source": [
        "import pandas as pd\n",
        "data=pd.read_csv(\"news.csv\")\n",
        "import numpy as np\n",
        "import pandas as pd\n",
        "import matplotlib.pyplot as plt\n",
        "import seaborn as sns\n",
        "from sklearn.feature_extraction import text\n",
        "import scipy\n",
        "from sklearn.feature_extraction.text import TfidfVectorizer\n",
        "from sklearn.cluster import KMeans\n",
        "from nltk.tokenize import RegexpTokenizer\n",
        "from nltk.stem.snowball import SnowballStemmer\n",
        "%matplotlib inline\n",
        "punc = ['.', ',', '\"', \"'\", '?', '!', ':', ';', '(', ')', '[', ']', '{', '}',\"%\"]\n",
        "stop_words=text.ENGLISH_STOP_WORDS.union(punc)"
      ],
      "execution_count": 0,
      "outputs": []
    },
    {
      "metadata": {
        "id": "Go3ewjPXuNCe",
        "colab_type": "code",
        "outputId": "bfd8d315-f213-47f0-e454-4380135f3199",
        "colab": {
          "base_uri": "https://localhost:8080/",
          "height": 54
        }
      },
      "cell_type": "code",
      "source": [
        "data.text[0]"
      ],
      "execution_count": 0,
      "outputs": [
        {
          "output_type": "execute_result",
          "data": {
            "text/plain": [
              "\"NEW YORK (AP) - A prime rate reduction by New York's First National City Bank helped the stock market close out the busiest week in its history with a modest advance Friday.</br></br>The Dow Jones average of 30 industrial stocks gained 5.12 to 929.63, finishing the week withanetrise of 18.50 points.</br></br>Big Board volume, at 25.94 million shares, fell a good deal short of matching Thursday's all-time high of 38.45 million.</br></br>But the day�۪s figure was more than enough to push the total for the week to a record 159.69 million shares. The previous peak had been 145.68 million in the last week of January 1975.</br></br>The Dow has advanced in all but two of the first 11 sessions of the new year. As of Friday�۪s close it had gained 77.22 points since New Year�۪s.\""
            ]
          },
          "metadata": {
            "tags": []
          },
          "execution_count": 3
        }
      ]
    },
    {
      "metadata": {
        "id": "610fyPj0O_6m",
        "colab_type": "code",
        "outputId": "20f256a4-ad23-4de0-d705-665d7701a839",
        "colab": {
          "base_uri": "https://localhost:8080/",
          "height": 70
        }
      },
      "cell_type": "code",
      "source": [
        "text=data[\"text\"].values\n",
        "stemmer = SnowballStemmer('english')\n",
        "tokenizer = RegexpTokenizer(r'[a-zA-Z\\']+')\n",
        "def tokenize(text):\n",
        "  return[stemmer.stem(word) for word in tokenizer.tokenize(text.lower())]\n",
        "vectorizer=TfidfVectorizer(stop_words=stop_words,tokenizer=tokenize,max_features=100000)\n",
        "\n",
        "\n",
        "Text=vectorizer.fit_transform(text)\n",
        "word_features=vectorizer.get_feature_names()"
      ],
      "execution_count": 0,
      "outputs": [
        {
          "output_type": "stream",
          "text": [
            "/usr/local/lib/python3.6/dist-packages/sklearn/feature_extraction/text.py:300: UserWarning: Your stop_words may be inconsistent with your preprocessing. Tokenizing the stop words generated tokens ['abov', 'afterward', 'alon', 'alreadi', 'alway', 'ani', 'anoth', 'anyon', 'anyth', 'anywher', 'becam', 'becaus', 'becom', 'befor', 'besid', 'cri', 'describ', 'dure', 'els', 'elsewher', 'empti', 'everi', 'everyon', 'everyth', 'everywher', 'fifti', 'forti', 'henc', 'hereaft', 'herebi', 'howev', 'hundr', 'inde', 'mani', 'meanwhil', 'moreov', 'nobodi', 'noon', 'noth', 'nowher', 'onc', 'onli', 'otherwis', 'ourselv', 'perhap', 'pleas', 'sever', 'sinc', 'sincer', 'sixti', 'someon', 'someth', 'sometim', 'somewher', 'themselv', 'thenc', 'thereaft', 'therebi', 'therefor', 'togeth', 'twelv', 'twenti', 'veri', 'whatev', 'whenc', 'whenev', 'wherea', 'whereaft', 'wherebi', 'wherev', 'whi', 'yourselv'] not in stop_words.\n",
            "  'stop_words.' % sorted(inconsistent))\n"
          ],
          "name": "stderr"
        }
      ]
    },
    {
      "metadata": {
        "id": "F7lll3XLPVOC",
        "colab_type": "code",
        "outputId": "58b73885-8449-4814-beb8-296dcba2a546",
        "colab": {
          "base_uri": "https://localhost:8080/",
          "height": 34
        }
      },
      "cell_type": "code",
      "source": [
        "print(len(word_features))"
      ],
      "execution_count": 0,
      "outputs": [
        {
          "output_type": "stream",
          "text": [
            "16968\n"
          ],
          "name": "stdout"
        }
      ]
    },
    {
      "metadata": {
        "id": "L4aF9WHZfspR",
        "colab_type": "code",
        "colab": {}
      },
      "cell_type": "code",
      "source": [
        ""
      ],
      "execution_count": 0,
      "outputs": []
    },
    {
      "metadata": {
        "id": "pmvFcKhrgdzl",
        "colab_type": "code",
        "outputId": "3b652bb8-cfb7-4671-9578-8b738ee6e862",
        "colab": {
          "base_uri": "https://localhost:8080/",
          "height": 294
        }
      },
      "cell_type": "code",
      "source": [
        "from sklearn.cluster import KMeans\n",
        "wcss = []\n",
        "for i in range(1,17):\n",
        "    kmeans = KMeans(n_clusters=i,init='k-means++',max_iter=300,n_init=17,random_state=0)\n",
        "    kmeans.fit(Text)\n",
        "    wcss.append(kmeans.inertia_)\n",
        "plt.plot(range(1,17),wcss)\n",
        "plt.title('The Elbow Method')\n",
        "plt.xlabel('Number of clusters')\n",
        "plt.ylabel('WCSS')\n",
        "plt.savefig('elbow.png')\n",
        "plt.show()"
      ],
      "execution_count": 0,
      "outputs": [
        {
          "output_type": "display_data",
          "data": {
            "image/png": "[encoded data removed]",
            "text/plain": [
              "<Figure size 432x288 with 1 Axes>"
            ]
          },
          "metadata": {
            "tags": []
          }
        }
      ]
    },
    {
      "metadata": {
        "id": "jDpZROprg7TC",
        "colab_type": "code",
        "colab": {}
      },
      "cell_type": "code",
      "source": [
        "kmeans = KMeans(n_clusters = 4, n_init = 20, n_jobs = 1) # n_init(number of iterations for clsutering) n_jobs(number of cpu cores to use)\n",
        "kmeans.fit(Text)\n",
        "# We look at 3 the clusters generated by k-means.\n",
        "common_words = kmeans.cluster_centers_.argsort()[:,-1:-26:-1]\n",
        "for num, centroid in enumerate(common_words):\n",
        "    print(str(num) + ' : ' + ', '.join(word_features[word] for word in centroid))"
      ],
      "execution_count": 0,
      "outputs": []
    },
    {
      "metadata": {
        "id": "T5XxPeI2g-M_",
        "colab_type": "code",
        "colab": {}
      },
      "cell_type": "code",
      "source": [
        "kmeans = KMeans(n_clusters = 10, n_init = 20, n_jobs = 1)\n",
        "kmeans.fit(Text)\n",
        "# We look at 5 the clusters generated by k-means.\n",
        "common_words = kmeans.cluster_centers_.argsort()[:,-1:-26:-1]\n",
        "for num, centroid in enumerate(common_words):\n",
        "    print(str(num) + ' : ' + ', '.join(word_features[word] for word in centroid))"
      ],
      "execution_count": 0,
      "outputs": []
    },
    {
      "metadata": {
        "id": "7rD2nSinj1gX",
        "colab_type": "code",
        "colab": {}
      },
      "cell_type": "code",
      "source": [
        "from sklearn.datasets import make_blobs\n",
        "from sklearn.cluster import KMeans\n",
        "from sklearn.metrics import silhouette_samples, silhouette_score"
      ],
      "execution_count": 0,
      "outputs": []
    },
    {
      "metadata": {
        "id": "Bda70-3jj5_a",
        "colab_type": "code",
        "outputId": "82374ea1-ab59-4b93-b156-f4df64f3f0d2",
        "colab": {
          "base_uri": "https://localhost:8080/",
          "height": 84
        }
      },
      "cell_type": "code",
      "source": [
        "range_n_clusters = [ 3, 4, 6, 10]\n",
        "\n",
        "for n_clusters in range_n_clusters:  \n",
        "  \n",
        "    kmeans = KMeans(n_clusters=n_clusters, n_init = 20, n_jobs = 1)\n",
        "    cluster_labels = kmeans.fit_predict(Text)\n",
        "    silhouette_avg = silhouette_score(Text, cluster_labels)\n",
        "    print(\"For n_clusters =\", n_clusters,\n",
        "          \"The average silhouette_score is :\", silhouette_avg)\n",
        " \n",
        "    # Compute the silhouette scores for each sample\n",
        "    sample_silhouette_values = silhouette_samples(Text, cluster_labels)\n",
        "\n",
        "    y_lower = 10\n",
        "    for i in range(n_clusters):\n",
        "        # Aggregate the silhouette scores for samples belonging to\n",
        "        # cluster i, and sort them\n",
        "        ith_cluster_silhouette_values = \\\n",
        "            sample_silhouette_values[cluster_labels == i]\n",
        "\n",
        "        ith_cluster_silhouette_values.sort()\n"
      ],
      "execution_count": 0,
      "outputs": [
        {
          "output_type": "stream",
          "text": [
            "For n_clusters = 3 The average silhouette_score is : 0.0060321003301607055\n",
            "For n_clusters = 4 The average silhouette_score is : 0.00745518369555152\n",
            "For n_clusters = 6 The average silhouette_score is : 0.00851412371548111\n",
            "For n_clusters = 10 The average silhouette_score is : 0.007534292018149987\n"
          ],
          "name": "stdout"
        }
      ]
    },
    {
      "metadata": {
        "id": "8P-gN_pf7IC5",
        "colab_type": "code",
        "colab": {}
      },
      "cell_type": "code",
      "source": [
        ""
      ],
      "execution_count": 0,
      "outputs": []
    }
  ]
}